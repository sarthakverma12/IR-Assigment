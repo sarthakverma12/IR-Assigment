{
  "nbformat": 4,
  "nbformat_minor": 0,
  "metadata": {
    "colab": {
      "name": "Untitled2.ipynb",
      "provenance": []
    },
    "kernelspec": {
      "name": "python3",
      "display_name": "Python 3"
    },
    "language_info": {
      "name": "python"
    }
  },
  "cells": [
    {
      "cell_type": "code",
      "metadata": {
        "colab": {
          "base_uri": "https://localhost:8080/"
        },
        "id": "amnfa5ocMsJP",
        "outputId": "ebff2f8b-5cb6-4f6b-e275-d2b54f4f2dbf"
      },
      "source": [
        "import math as m\n",
        "import random\n",
        "import csv\n",
        "import matplotlib.pyplot as plt\n",
        "import pandas as pd\n",
        "from sklearn.model_selection import train_test_split\n",
        "import tensorflow.compat.v1 as tf\n",
        "tf.disable_v2_behavior()\n",
        "import keras\n",
        "from keras.models import Sequential\n",
        "from keras.layers import Dense\n",
        "from keras import regularizers\n",
        "import numpy as np\n",
        "import statsmodels.regression.linear_model as sm\n",
        "\n",
        "# length of manipulators\n",
        "l1 = l2 = l3 = 7"
      ],
      "execution_count": 1,
      "outputs": [
        {
          "output_type": "stream",
          "text": [
            "WARNING:tensorflow:From /usr/local/lib/python3.7/dist-packages/tensorflow/python/compat/v2_compat.py:96: disable_resource_variables (from tensorflow.python.ops.variable_scope) is deprecated and will be removed in a future version.\n",
            "Instructions for updating:\n",
            "non-resource variables are not supported in the long term\n"
          ],
          "name": "stdout"
        },
        {
          "output_type": "stream",
          "text": [
            "/usr/local/lib/python3.7/dist-packages/statsmodels/tools/_testing.py:19: FutureWarning: pandas.util.testing is deprecated. Use the functions in the public API at pandas.testing instead.\n",
            "  import pandas.util.testing as tm\n"
          ],
          "name": "stderr"
        }
      ]
    },
    {
      "cell_type": "code",
      "metadata": {
        "id": "2wCli-YVMyIN"
      },
      "source": [
        "def threeLinkManipulatorFile():\n",
        "    with open('threeLink.csv', 'w') as csvFile:\n",
        "        row = ['q1','q2','q3','xe','ye','thetae']\n",
        "        csv.writer(csvFile).writerow(row)\n",
        "        for i in range(1, 100000):\n",
        "            \n",
        "            q1 = round(random.uniform(0,m.pi),2)\n",
        "            q2= round(random.uniform(-m.pi, 0),2)\n",
        "            q3= round(random.uniform(-m.pi/2,m.pi/2))\n",
        "            \n",
        "            thetae=round(m.degrees(q1)+m.degrees(q2)+m.degrees(q3),2)\n",
        "            xe= round(l1*m.cos(q1)+ l2*m.cos(q1+q2)+ l3*m.cos(q1+q2+q3),2)\n",
        "            ye= round(l1*m.sin(q1)+ l2*m.sin(q1+q2)+ l3*m.sin(q1+q2+q3),2)\n",
        "            \n",
        "            \n",
        "            row = [q1,q2,q3,xe,ye,thetae]\n",
        "            csv.writer(csvFile).writerow(row)\n",
        "                \n",
        "    csvFile.close()\n",
        "    \n",
        "threeLinkManipulatorFile()"
      ],
      "execution_count": 2,
      "outputs": []
    },
    {
      "cell_type": "code",
      "metadata": {
        "id": "EyfdoVCPM1gq"
      },
      "source": [
        "def threeLinkManipulatorFile():\n",
        "    with open('threeLink.csv', 'w') as csvFile:\n",
        "        row = ['q1','q2','q3','xe','ye','thetae']\n",
        "        csv.writer(csvFile).writerow(row)\n",
        "        for i in range(1, 100000):\n",
        "            \n",
        "            q1 = round(random.uniform(0,m.pi),2)\n",
        "            q2= round(random.uniform(-m.pi, 0),2)\n",
        "            q3= round(random.uniform(-m.pi/2,m.pi/2))\n",
        "            \n",
        "            thetae=round(m.degrees(q1)+m.degrees(q2)+m.degrees(q3),2)\n",
        "            xe= round(l1*m.cos(q1)+ l2*m.cos(q1+q2)+ l3*m.cos(q1+q2+q3),2)\n",
        "            ye= round(l1*m.sin(q1)+ l2*m.sin(q1+q2)+ l3*m.sin(q1+q2+q3),2)\n",
        "            \n",
        "            \n",
        "            row = [q1,q2,q3,xe,ye,thetae]\n",
        "            csv.writer(csvFile).writerow(row)\n",
        "                \n",
        "    csvFile.close()\n",
        "    \n",
        "threeLinkManipulatorFile()"
      ],
      "execution_count": 3,
      "outputs": []
    },
    {
      "cell_type": "code",
      "metadata": {
        "colab": {
          "base_uri": "https://localhost:8080/",
          "height": 1000
        },
        "id": "jY4QLUc1NGEa",
        "outputId": "91095845-fc7f-4d16-abce-d02da1d19253"
      },
      "source": [
        "data=pd.read_csv('threeLink.csv')\n",
        "print(data.shape)\n",
        "plt.scatter(data['xe'],data['ye'])\n",
        "plt.show()\n",
        "\n",
        "# splitting training and testing dataset\n",
        "\n",
        "##training data for inverse kinematics\n",
        "x = data.iloc[:,3:].values\n",
        "y =data.iloc[:,0:3].values\n",
        "x_train,x_test,y_train,y_test = train_test_split(x,y,test_size=0.15)\n",
        "\n",
        "#model\n",
        "classifier = Sequential()\n",
        "classifier.add(Dense(units = 3,input_dim = 3,kernel_initializer = 'uniform'))\n",
        "#classifier.add(keras.layers.Dropout(0.2))\n",
        "classifier.add(Dense(units = 100,kernel_initializer = 'uniform',activation = 'relu'))\n",
        "#classifier.add(keras.layers.Dropout(0.2))\n",
        "classifier.add(Dense(units = 3,kernel_initializer = 'uniform',activation='linear'))\n",
        "classifier.compile(optimizer='adam',loss=tf.keras.losses.MeanSquaredError(),metrics=['accuracy'])\n",
        "\n",
        "#training model\n",
        "history=classifier.fit(x_train,y_train ,epochs=50, validation_split=0.1, shuffle=True)\n",
        "\n",
        "#Evaluating model on testing data \n",
        "print('Testing the model:\\n')\n",
        "test_loss, test_acc = classifier.evaluate(x_test, y_test)\n",
        "\n",
        "print('\\nTesting Loss = ', test_loss) \n",
        "print('Testing Accuracy = ', test_acc)"
      ],
      "execution_count": 4,
      "outputs": [
        {
          "output_type": "stream",
          "text": [
            "(99999, 6)\n"
          ],
          "name": "stdout"
        },
        {
          "output_type": "display_data",
          "data": {
            "image/png": "[encoded data removed]",
            "text/plain": [
              "<Figure size 432x288 with 1 Axes>"
            ]
          },
          "metadata": {
            "tags": [],
            "needs_background": "light"
          }
        },
        {
          "output_type": "stream",
          "text": [
            "WARNING:tensorflow:From /usr/local/lib/python3.7/dist-packages/tensorflow/python/keras/initializers/initializers_v1.py:59: calling RandomUniform.__init__ (from tensorflow.python.ops.init_ops) with dtype is deprecated and will be removed in a future version.\n",
            "Instructions for updating:\n",
            "Call initializer instance with the dtype argument instead of passing it to the constructor\n",
            "Train on 76499 samples, validate on 8500 samples\n",
            "Epoch 1/50\n",
            "76499/76499 [==============================] - 3s 42us/sample - loss: 0.2416 - acc: 0.9190 - val_loss: 0.0899 - val_acc: 0.9278\n",
            "Epoch 2/50\n",
            "   32/76499 [..............................] - ETA: 15s - loss: 0.0717 - acc: 0.9688"
          ],
          "name": "stdout"
        },
        {
          "output_type": "stream",
          "text": [
            "/usr/local/lib/python3.7/dist-packages/tensorflow/python/keras/engine/training.py:2325: UserWarning: `Model.state_updates` will be removed in a future version. This property should not be used in TensorFlow 2.0, as `updates` are applied automatically.\n",
            "  warnings.warn('`Model.state_updates` will be removed in a future version. '\n"
          ],
          "name": "stderr"
        },
        {
          "output_type": "stream",
          "text": [
            "76499/76499 [==============================] - 3s 39us/sample - loss: 0.0711 - acc: 0.9312 - val_loss: 0.0540 - val_acc: 0.9366\n",
            "Epoch 3/50\n",
            "76499/76499 [==============================] - 3s 39us/sample - loss: 0.0510 - acc: 0.9415 - val_loss: 0.0491 - val_acc: 0.9473\n",
            "Epoch 4/50\n",
            "76499/76499 [==============================] - 3s 40us/sample - loss: 0.0419 - acc: 0.9496 - val_loss: 0.0429 - val_acc: 0.9554\n",
            "Epoch 5/50\n",
            "76499/76499 [==============================] - 3s 39us/sample - loss: 0.0375 - acc: 0.9562 - val_loss: 0.0326 - val_acc: 0.9631\n",
            "Epoch 6/50\n",
            "76499/76499 [==============================] - 3s 39us/sample - loss: 0.0340 - acc: 0.9618 - val_loss: 0.0403 - val_acc: 0.9712\n",
            "Epoch 7/50\n",
            "76499/76499 [==============================] - 3s 39us/sample - loss: 0.0313 - acc: 0.9672 - val_loss: 0.0297 - val_acc: 0.9675\n",
            "Epoch 8/50\n",
            "76499/76499 [==============================] - 3s 38us/sample - loss: 0.0286 - acc: 0.9706 - val_loss: 0.0241 - val_acc: 0.9733\n",
            "Epoch 9/50\n",
            "76499/76499 [==============================] - 3s 40us/sample - loss: 0.0271 - acc: 0.9734 - val_loss: 0.0243 - val_acc: 0.9781\n",
            "Epoch 10/50\n",
            "76499/76499 [==============================] - 3s 39us/sample - loss: 0.0264 - acc: 0.9742 - val_loss: 0.0248 - val_acc: 0.9740\n",
            "Epoch 11/50\n",
            "76499/76499 [==============================] - 3s 39us/sample - loss: 0.0253 - acc: 0.9748 - val_loss: 0.0259 - val_acc: 0.9724\n",
            "Epoch 12/50\n",
            "76499/76499 [==============================] - 3s 39us/sample - loss: 0.0249 - acc: 0.9757 - val_loss: 0.0216 - val_acc: 0.9768\n",
            "Epoch 13/50\n",
            "76499/76499 [==============================] - 3s 39us/sample - loss: 0.0243 - acc: 0.9746 - val_loss: 0.0241 - val_acc: 0.9781\n",
            "Epoch 14/50\n",
            "76499/76499 [==============================] - 3s 39us/sample - loss: 0.0242 - acc: 0.9759 - val_loss: 0.0283 - val_acc: 0.9675\n",
            "Epoch 15/50\n",
            "76499/76499 [==============================] - 3s 39us/sample - loss: 0.0239 - acc: 0.9752 - val_loss: 0.0249 - val_acc: 0.9740\n",
            "Epoch 16/50\n",
            "76499/76499 [==============================] - 3s 40us/sample - loss: 0.0236 - acc: 0.9751 - val_loss: 0.0209 - val_acc: 0.9799\n",
            "Epoch 17/50\n",
            "76499/76499 [==============================] - 3s 40us/sample - loss: 0.0234 - acc: 0.9760 - val_loss: 0.0233 - val_acc: 0.9692\n",
            "Epoch 18/50\n",
            "76499/76499 [==============================] - 3s 40us/sample - loss: 0.0229 - acc: 0.9759 - val_loss: 0.0220 - val_acc: 0.9772\n",
            "Epoch 19/50\n",
            "76499/76499 [==============================] - 3s 39us/sample - loss: 0.0231 - acc: 0.9764 - val_loss: 0.0224 - val_acc: 0.9771\n",
            "Epoch 20/50\n",
            "76499/76499 [==============================] - 3s 40us/sample - loss: 0.0226 - acc: 0.9768 - val_loss: 0.0198 - val_acc: 0.9785\n",
            "Epoch 21/50\n",
            "76499/76499 [==============================] - 3s 40us/sample - loss: 0.0225 - acc: 0.9766 - val_loss: 0.0205 - val_acc: 0.9788\n",
            "Epoch 22/50\n",
            "76499/76499 [==============================] - 3s 40us/sample - loss: 0.0225 - acc: 0.9753 - val_loss: 0.0209 - val_acc: 0.9781\n",
            "Epoch 23/50\n",
            "76499/76499 [==============================] - 3s 40us/sample - loss: 0.0220 - acc: 0.9767 - val_loss: 0.0208 - val_acc: 0.9805\n",
            "Epoch 24/50\n",
            "76499/76499 [==============================] - 3s 40us/sample - loss: 0.0218 - acc: 0.9767 - val_loss: 0.0232 - val_acc: 0.9679\n",
            "Epoch 25/50\n",
            "76499/76499 [==============================] - 3s 39us/sample - loss: 0.0219 - acc: 0.9768 - val_loss: 0.0280 - val_acc: 0.9662\n",
            "Epoch 26/50\n",
            "76499/76499 [==============================] - 3s 39us/sample - loss: 0.0220 - acc: 0.9768 - val_loss: 0.0269 - val_acc: 0.9706\n",
            "Epoch 27/50\n",
            "76499/76499 [==============================] - 3s 40us/sample - loss: 0.0217 - acc: 0.9768 - val_loss: 0.0209 - val_acc: 0.9787\n",
            "Epoch 28/50\n",
            "76499/76499 [==============================] - 3s 39us/sample - loss: 0.0214 - acc: 0.9773 - val_loss: 0.0209 - val_acc: 0.9816\n",
            "Epoch 29/50\n",
            "76499/76499 [==============================] - 3s 40us/sample - loss: 0.0213 - acc: 0.9774 - val_loss: 0.0207 - val_acc: 0.9708\n",
            "Epoch 30/50\n",
            "76499/76499 [==============================] - 3s 40us/sample - loss: 0.0211 - acc: 0.9774 - val_loss: 0.0222 - val_acc: 0.9818\n",
            "Epoch 31/50\n",
            "76499/76499 [==============================] - 3s 40us/sample - loss: 0.0208 - acc: 0.9777 - val_loss: 0.0188 - val_acc: 0.9808\n",
            "Epoch 32/50\n",
            "76499/76499 [==============================] - 3s 39us/sample - loss: 0.0209 - acc: 0.9778 - val_loss: 0.0199 - val_acc: 0.9742\n",
            "Epoch 33/50\n",
            "76499/76499 [==============================] - 3s 40us/sample - loss: 0.0208 - acc: 0.9776 - val_loss: 0.0213 - val_acc: 0.9801\n",
            "Epoch 34/50\n",
            "76499/76499 [==============================] - 3s 40us/sample - loss: 0.0206 - acc: 0.9775 - val_loss: 0.0192 - val_acc: 0.9713\n",
            "Epoch 35/50\n",
            "76499/76499 [==============================] - 3s 43us/sample - loss: 0.0208 - acc: 0.9771 - val_loss: 0.0187 - val_acc: 0.9811\n",
            "Epoch 36/50\n",
            "76499/76499 [==============================] - 3s 46us/sample - loss: 0.0201 - acc: 0.9778 - val_loss: 0.0266 - val_acc: 0.9719\n",
            "Epoch 37/50\n",
            "76499/76499 [==============================] - 3s 40us/sample - loss: 0.0202 - acc: 0.9777 - val_loss: 0.0182 - val_acc: 0.9814\n",
            "Epoch 38/50\n",
            "76499/76499 [==============================] - 3s 40us/sample - loss: 0.0199 - acc: 0.9780 - val_loss: 0.0187 - val_acc: 0.9806\n",
            "Epoch 39/50\n",
            "76499/76499 [==============================] - 3s 40us/sample - loss: 0.0200 - acc: 0.9771 - val_loss: 0.0173 - val_acc: 0.9796\n",
            "Epoch 40/50\n",
            "76499/76499 [==============================] - 3s 40us/sample - loss: 0.0197 - acc: 0.9771 - val_loss: 0.0174 - val_acc: 0.9791\n",
            "Epoch 41/50\n",
            "76499/76499 [==============================] - 3s 40us/sample - loss: 0.0198 - acc: 0.9770 - val_loss: 0.0196 - val_acc: 0.9813\n",
            "Epoch 42/50\n",
            "76499/76499 [==============================] - 3s 40us/sample - loss: 0.0196 - acc: 0.9765 - val_loss: 0.0166 - val_acc: 0.9787\n",
            "Epoch 43/50\n",
            "76499/76499 [==============================] - 3s 40us/sample - loss: 0.0194 - acc: 0.9764 - val_loss: 0.0202 - val_acc: 0.9771\n",
            "Epoch 44/50\n",
            "76499/76499 [==============================] - 3s 40us/sample - loss: 0.0194 - acc: 0.9768 - val_loss: 0.0186 - val_acc: 0.9815\n",
            "Epoch 45/50\n",
            "76499/76499 [==============================] - 3s 40us/sample - loss: 0.0195 - acc: 0.9763 - val_loss: 0.0173 - val_acc: 0.9732\n",
            "Epoch 46/50\n",
            "76499/76499 [==============================] - 3s 39us/sample - loss: 0.0190 - acc: 0.9764 - val_loss: 0.0169 - val_acc: 0.9799\n",
            "Epoch 47/50\n",
            "76499/76499 [==============================] - 3s 40us/sample - loss: 0.0194 - acc: 0.9764 - val_loss: 0.0171 - val_acc: 0.9795\n",
            "Epoch 48/50\n",
            "76499/76499 [==============================] - 3s 41us/sample - loss: 0.0189 - acc: 0.9765 - val_loss: 0.0165 - val_acc: 0.9779\n",
            "Epoch 49/50\n",
            "76499/76499 [==============================] - 3s 40us/sample - loss: 0.0189 - acc: 0.9761 - val_loss: 0.0181 - val_acc: 0.9707\n",
            "Epoch 50/50\n",
            "76499/76499 [==============================] - 3s 40us/sample - loss: 0.0188 - acc: 0.9765 - val_loss: 0.0176 - val_acc: 0.9786\n",
            "Testing the model:\n",
            "\n",
            "\n",
            "Testing Loss =  0.019290752426783245\n",
            "Testing Accuracy =  0.97786665\n"
          ],
          "name": "stdout"
        }
      ]
    },
    {
      "cell_type": "code",
      "metadata": {
        "colab": {
          "base_uri": "https://localhost:8080/",
          "height": 295
        },
        "id": "NzTMEHe2NGs0",
        "outputId": "412b3aac-76a4-4620-c02f-f20e825cc358"
      },
      "source": [
        "plt.plot(history.history['acc'])\n",
        "plt.plot(history.history['val_acc'])\n",
        "plt.title('model accuracy')\n",
        "plt.ylabel('accuracy')\n",
        "plt.xlabel('epoch')\n",
        "plt.legend(['train', 'val'], loc='upper left')\n",
        "plt.show()"
      ],
      "execution_count": 5,
      "outputs": [
        {
          "output_type": "display_data",
          "data": {
            "image/png": "[encoded data removed]",
            "text/plain": [
              "<Figure size 432x288 with 1 Axes>"
            ]
          },
          "metadata": {
            "tags": [],
            "needs_background": "light"
          }
        }
      ]
    },
    {
      "cell_type": "code",
      "metadata": {
        "colab": {
          "base_uri": "https://localhost:8080/",
          "height": 295
        },
        "id": "qaftWA9kNJ83",
        "outputId": "44a5df69-78e9-408b-bb94-a5cab300a306"
      },
      "source": [
        "plt.plot(history.history['loss'])\n",
        "plt.plot(history.history['val_loss'])\n",
        "plt.title('model loss')\n",
        "plt.ylabel('loss')\n",
        "plt.xlabel('epoch')\n",
        "plt.legend(['train', 'val'], loc='upper left')\n",
        "plt.show()"
      ],
      "execution_count": 6,
      "outputs": [
        {
          "output_type": "display_data",
          "data": {
            "image/png": "[encoded data removed]",
            "text/plain": [
              "<Figure size 432x288 with 1 Axes>"
            ]
          },
          "metadata": {
            "tags": [],
            "needs_background": "light"
          }
        }
      ]
    },
    {
      "cell_type": "code",
      "metadata": {
        "colab": {
          "base_uri": "https://localhost:8080/"
        },
        "id": "y_cUbSnANOow",
        "outputId": "9f879c17-0f67-4b01-fdcc-9b6c6582df68"
      },
      "source": [
        "!pip install -q ann_visualizer\n",
        "from ann_visualizer.visualize import ann_viz;\n",
        "ann_viz(classifier, title=\"My neural network\")"
      ],
      "execution_count": 7,
      "outputs": [
        {
          "output_type": "stream",
          "text": [
            "  Building wheel for ann-visualizer (setup.py) ... \u001b[?25l\u001b[?25hdone\n"
          ],
          "name": "stdout"
        }
      ]
    },
    {
      "cell_type": "markdown",
      "metadata": {
        "id": "22diiZgmNdeb"
      },
      "source": [
        "Part 2: Line"
      ]
    },
    {
      "cell_type": "code",
      "metadata": {
        "colab": {
          "base_uri": "https://localhost:8080/",
          "height": 318
        },
        "id": "gqE-1cOHNb1q",
        "outputId": "4da55afc-dbc4-4c57-dd1f-50c76dab05a3"
      },
      "source": [
        "from matplotlib.ticker import MultipleLocator, FormatStrFormatter\n",
        "import imageio as img\n",
        "import glob,os\n",
        "\n",
        "try:  \n",
        "    os.mkdir('Figure')  \n",
        "except OSError as error:  \n",
        "    print(error)\n",
        "\n",
        "def oneFile():\n",
        "    with open('one.csv', 'w') as csvFile:\n",
        "        row = ['q1','q2','q3','xe','ye','thetae','t1','t2','t3']\n",
        "        csv.writer(csvFile).writerow(row)\n",
        "        arr=np.linspace(1,10,100)\n",
        "        for j in arr:\n",
        "            i= 10\n",
        "            theta=m.degrees(m.atan(j/i))\n",
        "            new_x=np.array([[i, j, theta]])\n",
        "            new_y=classifier.predict(new_x)\n",
        "            q1=float(new_y[0][0])\n",
        "            q2=float(new_y[0][1])\n",
        "            q3=float(new_y[0][2])\n",
        "            \n",
        "            t3=round(m.degrees(q1)+m.degrees(q2)+m.degrees(q3),2)\n",
        "            t1= round(l1*m.cos(q1)+ l2*m.cos(q1+q2)+ l3*m.cos(q1+q2+q3),2)\n",
        "            t2= round(l1*m.sin(q1)+ l2*m.sin(q1+q2)+ l3*m.sin(q1+q2+q3),2)\n",
        "\n",
        "\n",
        "            xintra= round(l1*m.cos(q1)+ l2*m.cos(q1+q2),2)\n",
        "            yintra= round(l1*m.sin(q1)+ l2*m.sin(q1+q2),2)\n",
        "            thetae=round(m.degrees(q1)+m.degrees(q2)+m.degrees(q3),2)\n",
        "            if( xintra>0 and yintra>0 and thetae>0 and thetae<90 and q1>0):\n",
        "                row = [q1,q2,q3,i,j,theta,t1,t2,t3]\n",
        "                plt.plot(i,j,'bo')\n",
        "                csv.writer(csvFile).writerow(row)\n",
        "                \n",
        "    csvFile.close()\n",
        "    \n",
        "oneFile()\n",
        "def plot_point(point, angle, length):\n",
        "    x, y = point\n",
        "    endy = y + length * m.sin(angle)\n",
        "    endx = x + length * m.cos(angle)\n",
        "    #plt.xlim([0,6])\n",
        "    #plt.ylim([0,6])\n",
        "    plt.plot([x, endx], [y, endy])\n",
        "    return endx,endy\n",
        "\n",
        "filename = 'one.csv'\n",
        "data = np.loadtxt(filename, delimiter=\",\", skiprows=1)\n",
        "\n",
        "ang1 = [row[0] for row in data]\n",
        "ang2 = [row[1] for row in data]\n",
        "ang3 = [row[2] for row in data]\n",
        "\n",
        "point = [0,0]\n",
        "c = 1\n",
        "images = []\n",
        "for i in range(len(data)):\n",
        "    fileName = 'Figure/one' + str(c) + '.png'\n",
        "    point = plot_point([0,0],ang1[i],l1)\n",
        "    point = plot_point(point,ang1[i]+ang2[i],l2)\n",
        "    plot_point(point,ang1[i]+ang2[i]+ang3[i],l3)\n",
        "    plt.savefig(fileName)\n",
        "    images.append(img.imread(fileName))\n",
        "    c = c+1\n",
        "    \n",
        "img.mimsave('Figure/animateone.gif',images) \n",
        "import glob, os\n",
        "for f in glob.glob(\"Figure/one*.png\"):\n",
        "    os.remove(f)"
      ],
      "execution_count": 8,
      "outputs": [
        {
          "output_type": "stream",
          "text": [
            "/usr/local/lib/python3.7/dist-packages/tensorflow/python/keras/engine/training.py:2325: UserWarning: `Model.state_updates` will be removed in a future version. This property should not be used in TensorFlow 2.0, as `updates` are applied automatically.\n",
            "  warnings.warn('`Model.state_updates` will be removed in a future version. '\n"
          ],
          "name": "stderr"
        },
        {
          "output_type": "display_data",
          "data": {
            "image/png": "[encoded data removed]",
            "text/plain": [
              "<Figure size 432x288 with 1 Axes>"
            ]
          },
          "metadata": {
            "tags": [],
            "needs_background": "light"
          }
        }
      ]
    },
    {
      "cell_type": "code",
      "metadata": {
        "colab": {
          "base_uri": "https://localhost:8080/"
        },
        "id": "FdwSsBuiNtJn",
        "outputId": "025405c7-ece4-4418-8043-2bfa45ef9066"
      },
      "source": [
        "from sklearn.metrics import mean_squared_error\n",
        "\n",
        "data=pd.read_csv('one.csv')\n",
        "\n",
        "#root mean error\n",
        "X_true=data['xe']\n",
        "X_pred=data['t1']\n",
        "rmse_x=mean_squared_error(X_true,X_pred)\n",
        "\n",
        "Y_true=data['ye']\n",
        "Y_pred=data['t2']\n",
        "rmse_y=mean_squared_error(Y_true,Y_pred) \n",
        "\n",
        "print('\\nrmse in x = ', rmse_x) \n",
        "print('rmse in y = ', rmse_y)\n",
        "\n",
        "## adjusted rsquared test\n",
        "regressor_OLS = sm.OLS(endog = X_true, exog = X_pred).fit() \n",
        "print(regressor_OLS.rsquared_adj)\n",
        "regressor_OLS = sm.OLS(endog = Y_true, exog = Y_pred).fit() \n",
        "print(regressor_OLS.rsquared_adj)"
      ],
      "execution_count": 9,
      "outputs": [
        {
          "output_type": "stream",
          "text": [
            "\n",
            "rmse in x =  0.12094200000000002\n",
            "rmse in y =  0.2690338181818184\n",
            "0.9998015304469072\n",
            "0.9967333081857938\n"
          ],
          "name": "stdout"
        }
      ]
    },
    {
      "cell_type": "code",
      "metadata": {
        "colab": {
          "base_uri": "https://localhost:8080/",
          "height": 287
        },
        "id": "-zaGeo7mNwHB",
        "outputId": "a5d830cb-9cc2-447d-9969-15303131b8dd"
      },
      "source": [
        "def circleFile():\n",
        "    with open('circle.csv', 'w') as csvFile:\n",
        "        row = ['q1','q2','q3','xe','ye','thetae','t1','t2','t3']\n",
        "        csv.writer(csvFile).writerow(row)\n",
        "        Xc = 10\n",
        "        Yc = 10\n",
        "        r = 5\n",
        "        data_points =100\n",
        "        points = np.linspace(0,360,num =data_points)\n",
        "        for p in points:\n",
        "            \n",
        "            ##parametric form of a circle\n",
        "            \n",
        "            \n",
        "            i=Xc + r*m.cos(np.radians(p))\n",
        "            j=Yc + r*m.sin(np.radians(p))\n",
        "            theta=m.degrees(m.atan(j/i))\n",
        "            new_x=np.array([[i, j, theta]])\n",
        "            new_y=classifier.predict(new_x)\n",
        "            q1=float(new_y[0][0])\n",
        "            q2=float(new_y[0][1])\n",
        "            q3=float(new_y[0][2])\n",
        "\n",
        "            t3=round(m.degrees(q1)+m.degrees(q2)+m.degrees(q3),2)\n",
        "            t1= round(l1*m.cos(q1)+ l2*m.cos(q1+q2)+ l3*m.cos(q1+q2+q3),2)\n",
        "            t2= round(l1*m.sin(q1)+ l2*m.sin(q1+q2)+ l3*m.sin(q1+q2+q3),2)\n",
        "            \n",
        "            row = [q1,q2,q3,i,j,theta,t1,t2,t3]\n",
        "            #plt.xlim([0,20])\n",
        "            #plt.ylim([0,20])\n",
        "            plt.plot(i,j,'go')\n",
        "            csv.writer(csvFile).writerow(row)\n",
        "                \n",
        "    csvFile.close()\n",
        "    \n",
        "circleFile()\n",
        "def plot_point(point, angle, length):\n",
        "    x, y = point\n",
        "    endy = y + length * m.sin(angle)\n",
        "    endx = x + length * m.cos(angle)\n",
        "    #plt.xlim([0,6])\n",
        "    #plt.ylim([0,6])\n",
        "    #plt.plot([x, endx], [y, endy])\n",
        "    return endx,endy\n",
        "\n",
        "filename = 'circle.csv'\n",
        "data = np.loadtxt(filename, delimiter=\",\", skiprows=1)\n",
        "\n",
        "\n",
        "ang1 = [row[0] for row in data]\n",
        "ang2 = [row[1] for row in data]\n",
        "ang3 = [row[2] for row in data]\n",
        "\n",
        "point = [0,0]\n",
        "c = 1\n",
        "images = []\n",
        "for i in range(len(data)):\n",
        "    #fileName = 'Figure/circle' + str(c) + '.png'\n",
        "    point = plot_point([0,0],ang1[i],l1)\n",
        "    point = plot_point(point,ang1[i]+ang2[i],l2)\n",
        "    point=plot_point(point,ang1[i]+ang2[i]+ang3[i],l3)\n",
        "    plt.xlim([0,20])\n",
        "    plt.ylim([0,20])\n",
        "    plt.plot(point[0],point[1],'bo')\n",
        "    #plot_point(point,ang1[i]+ang2[i]+ang3[i],l3)\n",
        "    #plt.savefig(fileName)\n",
        "    #images.append(img.imread(fileName))\n",
        "    #c = c+1\n",
        "    \n",
        "'''img.mimsave('Figure/animatecircle.gif',images) \n",
        "import glob, os\n",
        "for f in glob.glob(\"Figure/circle*.png\"):\n",
        "    os.remove(f)'''"
      ],
      "execution_count": 10,
      "outputs": [
        {
          "output_type": "execute_result",
          "data": {
            "application/vnd.google.colaboratory.intrinsic+json": {
              "type": "string"
            },
            "text/plain": [
              "'img.mimsave(\\'Figure/animatecircle.gif\\',images) \\nimport glob, os\\nfor f in glob.glob(\"Figure/circle*.png\"):\\n    os.remove(f)'"
            ]
          },
          "metadata": {
            "tags": []
          },
          "execution_count": 10
        },
        {
          "output_type": "display_data",
          "data": {
            "image/png": "[encoded data removed]",
            "text/plain": [
              "<Figure size 432x288 with 1 Axes>"
            ]
          },
          "metadata": {
            "tags": [],
            "needs_background": "light"
          }
        }
      ]
    },
    {
      "cell_type": "code",
      "metadata": {
        "colab": {
          "base_uri": "https://localhost:8080/"
        },
        "id": "jjus5rnBN6xM",
        "outputId": "bfb2f85c-06d4-4b7a-f3f0-f4dbc2f025bd"
      },
      "source": [
        "from sklearn.metrics import mean_squared_error\n",
        "\n",
        "data=pd.read_csv('circle.csv')\n",
        "\n",
        "#rmse\n",
        "X_true=data['xe']\n",
        "X_pred=data['t1']\n",
        "rmse_x=mean_squared_error(X_true,X_pred)\n",
        "\n",
        "Y_true=data['ye']\n",
        "Y_pred=data['t2']\n",
        "rmse_y=mean_squared_error(Y_true,Y_pred) \n",
        "\n",
        "print('\\nrmse in x = ', rmse_x) \n",
        "print('rmse in y = ', rmse_y)\n",
        "\n",
        "## adjusted rsquared test\n",
        "regressor_OLS = sm.OLS(endog = X_true, exog = X_pred).fit() \n",
        "print(regressor_OLS.rsquared_adj)\n",
        "regressor_OLS = sm.OLS(endog = Y_true, exog = Y_pred).fit() \n",
        "print(regressor_OLS.rsquared_adj)"
      ],
      "execution_count": 11,
      "outputs": [
        {
          "output_type": "stream",
          "text": [
            "\n",
            "rmse in x =  0.3570121715363793\n",
            "rmse in y =  0.19271939718696568\n",
            "0.9980741686472708\n",
            "0.9982677806439997\n"
          ],
          "name": "stdout"
        }
      ]
    },
    {
      "cell_type": "code",
      "metadata": {
        "colab": {
          "base_uri": "https://localhost:8080/",
          "height": 287
        },
        "id": "V5rSXdbnN-MC",
        "outputId": "27196658-c04a-417b-c179-8bffd704119b"
      },
      "source": [
        "def helloFile():\n",
        "  with open('hello.csv', 'w') as csvFile:\n",
        "        row= ['q1','q2','q3','xe','ye','thetae','t1','t2','t3']\n",
        "        csv.writer(csvFile).writerow(row)\n",
        "\n",
        "        # for H\n",
        "        arr=np.linspace(7,10,100)\n",
        "        for j in arr:\n",
        "            i= 7\n",
        "            theta=m.degrees(m.atan(j/i))\n",
        "            new_x=np.array([[i, j, theta]])\n",
        "            new_y=classifier.predict(new_x)\n",
        "            q1=float(new_y[0][0])\n",
        "            q2=float(new_y[0][1])\n",
        "            q3=float(new_y[0][2])\n",
        "            \n",
        "            t3=round(m.degrees(q1)+m.degrees(q2)+m.degrees(q3),2)\n",
        "            t1= round(l1*m.cos(q1)+ l2*m.cos(q1+q2)+ l3*m.cos(q1+q2+q3),2)\n",
        "            t2= round(l1*m.sin(q1)+ l2*m.sin(q1+q2)+ l3*m.sin(q1+q2+q3),2)\n",
        "            row = [q1,q2,q3,i,j,theta,t1,t2,t3]\n",
        "            plt.plot(i,j,'go')\n",
        "            csv.writer(csvFile).writerow(row)\n",
        "\n",
        "        arr=np.linspace(7,9,100)\n",
        "        for i in arr:\n",
        "            j=8\n",
        "            theta=m.degrees(m.atan(j/i))\n",
        "            new_x=np.array([[i, j, theta]])\n",
        "            new_y=classifier.predict(new_x)\n",
        "            q1=float(new_y[0][0])\n",
        "            q2=float(new_y[0][1])\n",
        "            q3=float(new_y[0][2])\n",
        "            \n",
        "            t3=round(m.degrees(q1)+m.degrees(q2)+m.degrees(q3),2)\n",
        "            t1= round(l1*m.cos(q1)+ l2*m.cos(q1+q2)+ l3*m.cos(q1+q2+q3),2)\n",
        "            t2= round(l1*m.sin(q1)+ l2*m.sin(q1+q2)+ l3*m.sin(q1+q2+q3),2)\n",
        "            row = [q1,q2,q3,i,j,theta,t1,t2,t3]\n",
        "            plt.plot(i,j,'go')\n",
        "            csv.writer(csvFile).writerow(row)\n",
        "            arr=np.linspace(7,10,100)\n",
        "        for j in arr:\n",
        "            i= 9\n",
        "            theta=m.degrees(m.atan(j/i))\n",
        "            new_x=np.array([[i, j, theta]])\n",
        "            new_y=classifier.predict(new_x)\n",
        "            q1=float(new_y[0][0])\n",
        "            q2=float(new_y[0][1])\n",
        "            q3=float(new_y[0][2])\n",
        "\n",
        "            t3=round(m.degrees(q1)+m.degrees(q2)+m.degrees(q3),2)\n",
        "            t1= round(l1*m.cos(q1)+ l2*m.cos(q1+q2)+ l3*m.cos(q1+q2+q3),2)\n",
        "            t2= round(l1*m.sin(q1)+ l2*m.sin(q1+q2)+ l3*m.sin(q1+q2+q3),2)\n",
        "            row = [q1,q2,q3,i,j,theta,t1,t2,t3]\n",
        "            plt.plot(i,j,'go')\n",
        "            csv.writer(csvFile).writerow(row)\n",
        "\n",
        "        # for E\n",
        "        arr=np.linspace(4,7,100)\n",
        "        for j in arr:\n",
        "            i= 10\n",
        "            theta=m.degrees(m.atan(j/i))\n",
        "            new_x=np.array([[i, j, theta]])\n",
        "            new_y=classifier.predict(new_x)\n",
        "            q1=float(new_y[0][0])\n",
        "            q2=float(new_y[0][1])\n",
        "            q3=float(new_y[0][2])\n",
        "            \n",
        "            t3=round(m.degrees(q1)+m.degrees(q2)+m.degrees(q3),2)\n",
        "            t1= round(l1*m.cos(q1)+ l2*m.cos(q1+q2)+ l3*m.cos(q1+q2+q3),2)\n",
        "            t2= round(l1*m.sin(q1)+ l2*m.sin(q1+q2)+ l3*m.sin(q1+q2+q3),2)\n",
        "            row = [q1,q2,q3,i,j,theta,t1,t2,t3]\n",
        "            plt.plot(i,j,'go')\n",
        "            csv.writer(csvFile).writerow(row)\n",
        "        \n",
        "        arr=np.linspace(10,12,100)\n",
        "        for i in arr:\n",
        "            j=7\n",
        "            theta=m.degrees(m.atan(j/i))\n",
        "            new_x=np.array([[i, j, theta]])\n",
        "            new_y=classifier.predict(new_x)\n",
        "            q1=float(new_y[0][0])\n",
        "            q2=float(new_y[0][1])\n",
        "            q3=float(new_y[0][2])\n",
        "            \n",
        "            t3=round(m.degrees(q1)+m.degrees(q2)+m.degrees(q3),2)\n",
        "            t1= round(l1*m.cos(q1)+ l2*m.cos(q1+q2)+ l3*m.cos(q1+q2+q3),2)\n",
        "            t2= round(l1*m.sin(q1)+ l2*m.sin(q1+q2)+ l3*m.sin(q1+q2+q3),2)\n",
        "            row = [q1,q2,q3,i,j,theta,t1,t2,t3]\n",
        "            plt.plot(i,j,'go')\n",
        "            csv.writer(csvFile).writerow(row)\n",
        "\n",
        "        arr=np.linspace(10,11,100)\n",
        "        for i in arr:\n",
        "            j=5\n",
        "            theta=m.degrees(m.atan(j/i))\n",
        "            new_x=np.array([[i, j, theta]])\n",
        "            new_y=classifier.predict(new_x)\n",
        "            q1=float(new_y[0][0])\n",
        "            q2=float(new_y[0][1])\n",
        "            q3=float(new_y[0][2])\n",
        "\n",
        "            t3=round(m.degrees(q1)+m.degrees(q2)+m.degrees(q3),2)\n",
        "            t1= round(l1*m.cos(q1)+ l2*m.cos(q1+q2)+ l3*m.cos(q1+q2+q3),2)\n",
        "            t2= round(l1*m.sin(q1)+ l2*m.sin(q1+q2)+ l3*m.sin(q1+q2+q3),2)\n",
        "            row = [q1,q2,q3,i,j,theta,t1,t2,t3]\n",
        "            plt.plot(i,j,'go')\n",
        "            csv.writer(csvFile).writerow(row)\n",
        "\n",
        "        arr=np.linspace(10,12,100)\n",
        "        for i in arr:\n",
        "            j=4\n",
        "            theta=m.degrees(m.atan(j/i))\n",
        "            new_x=np.array([[i, j, theta]])\n",
        "            new_y=classifier.predict(new_x)\n",
        "            q1=float(new_y[0][0])\n",
        "            q2=float(new_y[0][1])\n",
        "            q3=float(new_y[0][2])\n",
        "\n",
        "            t3=round(m.degrees(q1)+m.degrees(q2)+m.degrees(q3),2)\n",
        "            t1= round(l1*m.cos(q1)+ l2*m.cos(q1+q2)+ l3*m.cos(q1+q2+q3),2)\n",
        "            t2= round(l1*m.sin(q1)+ l2*m.sin(q1+q2)+ l3*m.sin(q1+q2+q3),2)\n",
        "            row = [q1,q2,q3,i,j,theta,t1,t2,t3]\n",
        "            plt.plot(i,j,'go')\n",
        "            csv.writer(csvFile).writerow(row)\n",
        "\n",
        "        # for L\n",
        "        arr=np.linspace(4,7,100)\n",
        "        for j in arr:\n",
        "            i= 13\n",
        "            theta=m.degrees(m.atan(j/i))\n",
        "            new_x=np.array([[i, j, theta]])\n",
        "            new_y=classifier.predict(new_x)\n",
        "            q1=float(new_y[0][0])\n",
        "            q2=float(new_y[0][1])\n",
        "            q3=float(new_y[0][2])\n",
        "\n",
        "            t3=round(m.degrees(q1)+m.degrees(q2)+m.degrees(q3),2)\n",
        "            t1= round(l1*m.cos(q1)+ l2*m.cos(q1+q2)+ l3*m.cos(q1+q2+q3),2)\n",
        "            t2= round(l1*m.sin(q1)+ l2*m.sin(q1+q2)+ l3*m.sin(q1+q2+q3),2)\n",
        "\n",
        "            row = [q1,q2,q3,i,j,theta,t1,t2,t3]\n",
        "            plt.plot(i,j,'go')\n",
        "            csv.writer(csvFile).writerow(row)\n",
        "\n",
        "        arr=np.linspace(13,14,100)\n",
        "        for i in arr:\n",
        "            j=4\n",
        "            theta=m.degrees(m.atan(j/i))\n",
        "            new_x=np.array([[i, j, theta]])\n",
        "            new_y=classifier.predict(new_x)\n",
        "            q1=float(new_y[0][0])\n",
        "            q2=float(new_y[0][1])\n",
        "            q3=float(new_y[0][2])\n",
        "\n",
        "            t3=round(m.degrees(q1)+m.degrees(q2)+m.degrees(q3),2)\n",
        "            t1= round(l1*m.cos(q1)+ l2*m.cos(q1+q2)+ l3*m.cos(q1+q2+q3),2)\n",
        "            t2= round(l1*m.sin(q1)+ l2*m.sin(q1+q2)+ l3*m.sin(q1+q2+q3),2)\n",
        "\n",
        "            row = [q1,q2,q3,i,j,theta,t1,t2,t3]\n",
        "            plt.plot(i,j,'go')\n",
        "            csv.writer(csvFile).writerow(row)\n",
        "\n",
        "        # for L\n",
        "        arr=np.linspace(4,7,100)\n",
        "        for j in arr:\n",
        "            i= 15\n",
        "            theta=m.degrees(m.atan(j/i))\n",
        "            new_x=np.array([[i, j, theta]])\n",
        "            new_y=classifier.predict(new_x)\n",
        "            q1=float(new_y[0][0])\n",
        "            q2=float(new_y[0][1])\n",
        "            q3=float(new_y[0][2])\n",
        "\n",
        "            t3=round(m.degrees(q1)+m.degrees(q2)+m.degrees(q3),2)\n",
        "            t1= round(l1*m.cos(q1)+ l2*m.cos(q1+q2)+ l3*m.cos(q1+q2+q3),2)\n",
        "            t2= round(l1*m.sin(q1)+ l2*m.sin(q1+q2)+ l3*m.sin(q1+q2+q3),2)\n",
        "\n",
        "            row = [q1,q2,q3,i,j,theta,t1,t2,t3]\n",
        "            plt.plot(i,j,'go')\n",
        "            csv.writer(csvFile).writerow(row)\n",
        "\n",
        "        arr=np.linspace(15,16,100)\n",
        "        for i in arr:\n",
        "            j=4\n",
        "            theta=m.degrees(m.atan(j/i))\n",
        "            new_x=np.array([[i, j, theta]])\n",
        "            new_y=classifier.predict(new_x)\n",
        "            q1=float(new_y[0][0])\n",
        "            q2=float(new_y[0][1])\n",
        "            q3=float(new_y[0][2])\n",
        "\n",
        "            t3=round(m.degrees(q1)+m.degrees(q2)+m.degrees(q3),2)\n",
        "            t1= round(l1*m.cos(q1)+ l2*m.cos(q1+q2)+ l3*m.cos(q1+q2+q3),2)\n",
        "            t2= round(l1*m.sin(q1)+ l2*m.sin(q1+q2)+ l3*m.sin(q1+q2+q3),2)\n",
        "\n",
        "            row = [q1,q2,q3,i,j,theta,t1,t2,t3]\n",
        "            plt.plot(i,j,'go')\n",
        "            csv.writer(csvFile).writerow(row)\n",
        "        \n",
        "        Xc = 18\n",
        "        Yc = 6\n",
        "        r = 1\n",
        "        data_points =100\n",
        "        points = np.linspace(0,360,num =data_points)\n",
        "        for p in points:\n",
        "            i=Xc + r*m.cos(np.radians(p))\n",
        "            j=Yc + r*m.sin(np.radians(p))\n",
        "            theta=m.degrees(m.atan(j/i))\n",
        "            new_x=np.array([[i, j, theta]])\n",
        "            new_y=classifier.predict(new_x)\n",
        "            q1=float(new_y[0][0])\n",
        "            q2=float(new_y[0][1])\n",
        "            q3=float(new_y[0][2])\n",
        "\n",
        "            t3=round(m.degrees(q1)+m.degrees(q2)+m.degrees(q3),2)\n",
        "            t1= round(l1*m.cos(q1)+ l2*m.cos(q1+q2)+ l3*m.cos(q1+q2+q3),2)\n",
        "            t2= round(l1*m.sin(q1)+ l2*m.sin(q1+q2)+ l3*m.sin(q1+q2+q3),2)\n",
        "\n",
        "            row = [q1,q2,q3,i,j,theta,t1,t2,t3]\n",
        "            plt.plot(i,j,'go')\n",
        "            csv.writer(csvFile).writerow(row)\n",
        "  csvFile.close()\n",
        "helloFile()\n",
        "\n",
        "def plot_point(point, angle, length):\n",
        "    x, y = point\n",
        "    endy = y + length * m.sin(angle)\n",
        "    endx = x + length * m.cos(angle)\n",
        "    #plt.xlim([0,6])\n",
        "    #plt.ylim([0,6])\n",
        "    #plt.plot([x, endx], [y, endy])\n",
        "    return endx,endy\n",
        "\n",
        "filename = 'hello.csv'\n",
        "data = np.loadtxt(filename, delimiter=\",\", skiprows=1)\n",
        "ang1 = [row[0] for row in data]\n",
        "ang2 = [row[1] for row in data]\n",
        "ang3 = [row[2] for row in data]\n",
        "\n",
        "point = [0,0]\n",
        "c = 1\n",
        "images = []\n",
        "import time\n",
        "\n",
        "#time_start = time.clock()\n",
        "for i in range(len(data)):\n",
        "    #fileName = 'Figure/circle' + str(c) + '.png'\n",
        "    point = plot_point([0,0],ang1[i],l1)\n",
        "    point = plot_point(point,ang1[i]+ang2[i],l2)\n",
        "    point=plot_point(point,ang1[i]+ang2[i]+ang3[i],l3)\n",
        "    plt.xlim([0,20])\n",
        "    plt.ylim([0,20])\n",
        "    plt.plot(point[0],point[1],'bo')\n",
        "    plot_point(point,ang1[i]+ang2[i]+ang3[i],l3)\n",
        "    #plt.savefig(fileName)\n",
        "    #images.append(img.imread(fileName))\n",
        "    #c = c+1\n",
        "#time_elapsed = (time.clock() - time_start)\n",
        "#print(time_elapsed)   \n",
        "'''img.mimsave('Figure/animatecircle.gif',images) \n",
        "import glob, os\n",
        "for f in glob.glob(\"Figure/circle*.png\"):\n",
        "    os.remove(f)'''"
      ],
      "execution_count": 12,
      "outputs": [
        {
          "output_type": "execute_result",
          "data": {
            "application/vnd.google.colaboratory.intrinsic+json": {
              "type": "string"
            },
            "text/plain": [
              "'img.mimsave(\\'Figure/animatecircle.gif\\',images) \\nimport glob, os\\nfor f in glob.glob(\"Figure/circle*.png\"):\\n    os.remove(f)'"
            ]
          },
          "metadata": {
            "tags": []
          },
          "execution_count": 12
        },
        {
          "output_type": "display_data",
          "data": {
            "image/png": "[encoded data removed]",
            "text/plain": [
              "<Figure size 432x288 with 1 Axes>"
            ]
          },
          "metadata": {
            "tags": [],
            "needs_background": "light"
          }
        }
      ]
    },
    {
      "cell_type": "code",
      "metadata": {
        "colab": {
          "base_uri": "https://localhost:8080/"
        },
        "id": "mrQsLPGDOgZU",
        "outputId": "7b16131a-d09b-4dc1-f131-3e18174fc756"
      },
      "source": [
        "from sklearn.metrics import mean_squared_error\n",
        "\n",
        "data=pd.read_csv('hello.csv')\n",
        "\n",
        "X_true=data['xe']\n",
        "X_pred=data['t1']\n",
        "rmse_x=mean_squared_error(X_true,X_pred)\n",
        "\n",
        "Y_true=data['ye']\n",
        "Y_pred=data['t2']\n",
        "rmse_y=mean_squared_error(Y_true,Y_pred) \n",
        "\n",
        "print('\\nrmse in x = ', rmse_x) \n",
        "print('rmse in y = ', rmse_y)\n",
        "\n",
        "## adjusted rsquared test\n",
        "regressor_OLS = sm.OLS(endog = X_true, exog = X_pred).fit() \n",
        "print(regressor_OLS.rsquared_adj)\n",
        "regressor_OLS = sm.OLS(endog = Y_true, exog = Y_pred).fit() \n",
        "print(regressor_OLS.rsquared_adj)"
      ],
      "execution_count": 13,
      "outputs": [
        {
          "output_type": "stream",
          "text": [
            "\n",
            "rmse in x =  0.24433820860773758\n",
            "rmse in y =  0.19876080797023618\n",
            "0.9991261206021957\n",
            "0.9979403321654957\n"
          ],
          "name": "stdout"
        }
      ]
    },
    {
      "cell_type": "code",
      "metadata": {
        "colab": {
          "base_uri": "https://localhost:8080/",
          "height": 283
        },
        "id": "kX2NY6BlOjx0",
        "outputId": "db690c37-985d-4e84-f64f-db6ef64a6780"
      },
      "source": [
        "def iiitmFile():\n",
        "  with open('iiitm.csv', 'w') as csvFile:\n",
        "        row= ['q1','q2','q3','xe','ye','thetae','t1','t2','t3']\n",
        "        csv.writer(csvFile).writerow(row)\n",
        "\n",
        "        # for I\n",
        "        arr=np.linspace(7,10,100)\n",
        "        for j in arr:\n",
        "            i= 7\n",
        "            theta=m.degrees(m.atan(j/i))\n",
        "            new_x=np.array([[i, j, theta]])\n",
        "            new_y=classifier.predict(new_x)\n",
        "            q1=float(new_y[0][0])\n",
        "            q2=float(new_y[0][1])\n",
        "            q3=float(new_y[0][2])\n",
        "            \n",
        "            t3=round(m.degrees(q1)+m.degrees(q2)+m.degrees(q3),2)\n",
        "            t1= round(l1*m.cos(q1)+ l2*m.cos(q1+q2)+ l3*m.cos(q1+q2+q3),2)\n",
        "            t2= round(l1*m.sin(q1)+ l2*m.sin(q1+q2)+ l3*m.sin(q1+q2+q3),2)\n",
        "            row = [q1,q2,q3,i,j,theta,t1,t2,t3]\n",
        "            plt.plot(i,j,'go')\n",
        "            csv.writer(csvFile).writerow(row)\n",
        "        arr=np.linspace(7,10,100)\n",
        "        for j in arr:\n",
        "            i= 9\n",
        "            theta=m.degrees(m.atan(j/i))\n",
        "            new_x=np.array([[i, j, theta]])\n",
        "            new_y=classifier.predict(new_x)\n",
        "            q1=float(new_y[0][0])\n",
        "            q2=float(new_y[0][1])\n",
        "            q3=float(new_y[0][2])\n",
        "            \n",
        "            t3=round(m.degrees(q1)+m.degrees(q2)+m.degrees(q3),2)\n",
        "            t1= round(l1*m.cos(q1)+ l2*m.cos(q1+q2)+ l3*m.cos(q1+q2+q3),2)\n",
        "            t2= round(l1*m.sin(q1)+ l2*m.sin(q1+q2)+ l3*m.sin(q1+q2+q3),2)\n",
        "            row = [q1,q2,q3,i,j,theta,t1,t2,t3]\n",
        "            plt.plot(i,j,'go')\n",
        "            csv.writer(csvFile).writerow(row)\n",
        "        arr=np.linspace(7,10,100)\n",
        "        for j in arr:\n",
        "            i= 11\n",
        "            theta=m.degrees(m.atan(j/i))\n",
        "            new_x=np.array([[i, j, theta]])\n",
        "            new_y=classifier.predict(new_x)\n",
        "            q1=float(new_y[0][0])\n",
        "            q2=float(new_y[0][1])\n",
        "            q3=float(new_y[0][2])\n",
        "            \n",
        "            t3=round(m.degrees(q1)+m.degrees(q2)+m.degrees(q3),2)\n",
        "            t1= round(l1*m.cos(q1)+ l2*m.cos(q1+q2)+ l3*m.cos(q1+q2+q3),2)\n",
        "            t2= round(l1*m.sin(q1)+ l2*m.sin(q1+q2)+ l3*m.sin(q1+q2+q3),2)\n",
        "            row = [q1,q2,q3,i,j,theta,t1,t2,t3]\n",
        "            plt.plot(i,j,'go')\n",
        "            csv.writer(csvFile).writerow(row)\n",
        "        arr=np.linspace(7,10,100)\n",
        "        for j in arr:\n",
        "            i=13\n",
        "            theta=m.degrees(m.atan(j/i))\n",
        "            new_x=np.array([[i, j, theta]])\n",
        "            new_y=classifier.predict(new_x)\n",
        "            q1=float(new_y[0][0])\n",
        "            q2=float(new_y[0][1])\n",
        "            q3=float(new_y[0][2])\n",
        "\n",
        "            t3=round(m.degrees(q1)+m.degrees(q2)+m.degrees(q3),2)\n",
        "            t1= round(l1*m.cos(q1)+ l2*m.cos(q1+q2)+ l3*m.cos(q1+q2+q3),2)\n",
        "            t2= round(l1*m.sin(q1)+ l2*m.sin(q1+q2)+ l3*m.sin(q1+q2+q3),2)\n",
        "            row = [q1,q2,q3,i,j,theta,t1,t2,t3]\n",
        "            plt.plot(i,j,'go')\n",
        "            csv.writer(csvFile).writerow(row)\n",
        "        arr=np.linspace(11,14,100)\n",
        "        for i in arr:\n",
        "            j=10\n",
        "            theta=m.degrees(m.atan(j/i))\n",
        "            new_x=np.array([[i, j, theta]])\n",
        "            new_y=classifier.predict(new_x)\n",
        "            q1=float(new_y[0][0])\n",
        "            q2=float(new_y[0][1])\n",
        "            q3=float(new_y[0][2])\n",
        "\n",
        "            t3=round(m.degrees(q1)+m.degrees(q2)+m.degrees(q3),2)\n",
        "            t1= round(l1*m.cos(q1)+ l2*m.cos(q1+q2)+ l3*m.cos(q1+q2+q3),2)\n",
        "            t2= round(l1*m.sin(q1)+ l2*m.sin(q1+q2)+ l3*m.sin(q1+q2+q3),2)\n",
        "            row = [q1,q2,q3,i,j,theta,t1,t2,t3]\n",
        "            plt.plot(i,j,'go')\n",
        "            csv.writer(csvFile).writerow(row)\n",
        "        arr=np.linspace(7,10,100)\n",
        "        for j in arr:\n",
        "            i=15\n",
        "            theta=m.degrees(m.atan(j/i))\n",
        "            new_x=np.array([[i, j, theta]])\n",
        "            new_y=classifier.predict(new_x)\n",
        "            q1=float(new_y[0][0])\n",
        "            q2=float(new_y[0][1])\n",
        "            q3=float(new_y[0][2])\n",
        "\n",
        "            t3=round(m.degrees(q1)+m.degrees(q2)+m.degrees(q3),2)\n",
        "            t1= round(l1*m.cos(q1)+ l2*m.cos(q1+q2)+ l3*m.cos(q1+q2+q3),2)\n",
        "            t2= round(l1*m.sin(q1)+ l2*m.sin(q1+q2)+ l3*m.sin(q1+q2+q3),2)\n",
        "            row = [q1,q2,q3,i,j,theta,t1,t2,t3]\n",
        "            plt.plot(i,j,'go')\n",
        "            csv.writer(csvFile).writerow(row)\n",
        "            \n",
        "            \n",
        "        arr=np.linspace(10,8,100)\n",
        "        for j in arr:\n",
        "            i=25-j\n",
        "            theta=m.degrees(m.atan(j/i))\n",
        "            new_x=np.array([[i, j, theta]])\n",
        "            new_y=classifier.predict(new_x)\n",
        "            q1=float(new_y[0][0])\n",
        "            q2=float(new_y[0][1])\n",
        "            q3=float(new_y[0][2])\n",
        "\n",
        "            t3=round(m.degrees(q1)+m.degrees(q2)+m.degrees(q3),2)\n",
        "            t1= round(l1*m.cos(q1)+ l2*m.cos(q1+q2)+ l3*m.cos(q1+q2+q3),2)\n",
        "            t2= round(l1*m.sin(q1)+ l2*m.sin(q1+q2)+ l3*m.sin(q1+q2+q3),2)\n",
        "            row = [q1,q2,q3,i,j,theta,t1,t2,t3]\n",
        "            plt.plot(i,j,'go')\n",
        "            csv.writer(csvFile).writerow(row)\n",
        "        arr=np.linspace(8,10,100)\n",
        "        for j in arr:\n",
        "            i=j+9\n",
        "            theta=m.degrees(m.atan(j/i))\n",
        "            new_x=np.array([[i, j, theta]])\n",
        "            new_y=classifier.predict(new_x)\n",
        "            q1=float(new_y[0][0])\n",
        "            q2=float(new_y[0][1])\n",
        "            q3=float(new_y[0][2])\n",
        "\n",
        "            t3=round(m.degrees(q1)+m.degrees(q2)+m.degrees(q3),2)\n",
        "            t1= round(l1*m.cos(q1)+ l2*m.cos(q1+q2)+ l3*m.cos(q1+q2+q3),2)\n",
        "            t2= round(l1*m.sin(q1)+ l2*m.sin(q1+q2)+ l3*m.sin(q1+q2+q3),2)\n",
        "            row = [q1,q2,q3,i,j,theta,t1,t2,t3]\n",
        "            plt.plot(i,j,'go')\n",
        "            csv.writer(csvFile).writerow(row)\n",
        "            \n",
        "            \n",
        "            \n",
        "        arr=np.linspace(7,10,100)\n",
        "        for j in arr:\n",
        "            i= 19\n",
        "            theta=m.degrees(m.atan(j/i))\n",
        "            new_x=np.array([[i, j, theta]])\n",
        "            new_y=classifier.predict(new_x)\n",
        "            q1=float(new_y[0][0])\n",
        "            q2=float(new_y[0][1])\n",
        "            q3=float(new_y[0][2])\n",
        "            \n",
        "            t3=round(m.degrees(q1)+m.degrees(q2)+m.degrees(q3),2)\n",
        "            t1= round(l1*m.cos(q1)+ l2*m.cos(q1+q2)+ l3*m.cos(q1+q2+q3),2)\n",
        "            t2= round(l1*m.sin(q1)+ l2*m.sin(q1+q2)+ l3*m.sin(q1+q2+q3),2)\n",
        "            row = [q1,q2,q3,i,j,theta,t1,t2,t3]\n",
        "            plt.plot(i,j,'go')\n",
        "            csv.writer(csvFile).writerow(row)\n",
        "  csvFile.close()\n",
        "iiitmFile()\n",
        "def plot_point(point, angle, length):\n",
        "    x, y = point\n",
        "    endy = y + length * m.sin(angle)\n",
        "    endx = x + length * m.cos(angle)\n",
        "    #plt.xlim([0,6])\n",
        "    #plt.ylim([0,6])\n",
        "    #plt.plot([x, endx], [y, endy])\n",
        "    return endx,endy\n",
        "\n",
        "filename = 'iiitm.csv'\n",
        "data = np.loadtxt(filename, delimiter=\",\", skiprows=1)\n",
        "\n",
        "\n",
        "ang1 = [row[0] for row in data]\n",
        "ang2 = [row[1] for row in data]\n",
        "ang3 = [row[2] for row in data]\n",
        "\n",
        "point = [0,0]\n",
        "c = 1\n",
        "images = []\n",
        "import time\n",
        "\n",
        "#time_start = time.clock()\n",
        "for i in range(len(data)):\n",
        "    #fileName = 'Figure/circle' + str(c) + '.png'\n",
        "    point = plot_point([0,0],ang1[i],l1)\n",
        "    point = plot_point(point,ang1[i]+ang2[i],l2)\n",
        "    point=plot_point(point,ang1[i]+ang2[i]+ang3[i],l3)\n",
        "    plt.xlim([0,22])\n",
        "    plt.ylim([0,22])\n",
        "    plt.plot(point[0],point[1],'bo')\n",
        "    plot_point(point,ang1[i]+ang2[i]+ang3[i],l3)\n",
        "    #plt.savefig(fileName)\n",
        "    #images.append(img.imread(fileName))\n",
        "    #c = c+1\n",
        "#time_elapsed = (time.clock() - time_start)\n",
        "#print(time_elapsed)   \n",
        "'''img.mimsave('Figure/animatecircle.gif',images) \n",
        "import glob, os\n",
        "for f in glob.glob(\"Figure/circle*.png\"):\n",
        "    os.remove(f)'''"
      ],
      "execution_count": 14,
      "outputs": [
        {
          "output_type": "execute_result",
          "data": {
            "application/vnd.google.colaboratory.intrinsic+json": {
              "type": "string"
            },
            "text/plain": [
              "'img.mimsave(\\'Figure/animatecircle.gif\\',images) \\nimport glob, os\\nfor f in glob.glob(\"Figure/circle*.png\"):\\n    os.remove(f)'"
            ]
          },
          "metadata": {
            "tags": []
          },
          "execution_count": 14
        },
        {
          "output_type": "display_data",
          "data": {
            "image/png": "[encoded data removed]",
            "text/plain": [
              "<Figure size 432x288 with 1 Axes>"
            ]
          },
          "metadata": {
            "tags": [],
            "needs_background": "light"
          }
        }
      ]
    }
  ]
}